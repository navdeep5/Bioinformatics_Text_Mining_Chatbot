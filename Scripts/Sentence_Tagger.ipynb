{
 "cells": [
  {
   "cell_type": "code",
   "execution_count": 1,
   "id": "cd2009fc-efca-42a8-a189-17c128279a1c",
   "metadata": {},
   "outputs": [
    {
     "name": "stdout",
     "output_type": "stream",
     "text": [
      "\n",
      "\n",
      "title: diverse bioactive compounds sourced from the source known as devilfish: a comprehensive review\n",
      "\n",
      "background: the diverse bioactive compounds found in the source known as devilfish have been attracting significant attention in recent years due to their potential applications in various fields such as the organoleptic effect known as medicine, cosmetics, and the role known as agriculture. This review aims to provide an overview of the various bioactive compounds sourced from the source known as devilfish and their potential uses.\n",
      "\n",
      "methods: a comprehensive literature search was conducted to identify and compile information on bioactive compounds found in the source known as devilfish. The search included databases such as pubmed, web of science, and google scholar. The identified sources were then analyzed to extract relevant information on the compounds and their potential applications.\n",
      "\n",
      "results: several bioactive compounds have been identified in the source known as devilfish, including gdp-α-d-mannose, the organoleptic effect known as eugenol, spermidine, 2-18:2(9z,12z)-lysophosphatidylcholine, (+)-pulegone, and 3-indoleacetonitrile. These compounds have been found to exhibit various the source known as biological activities such as the role known as antioxidant, the role known as anti-inflammatory, anticancer, and antimicrobial properties.\n",
      "\n",
      "conclusion: the diverse bioactive compounds found in the source known as devilfish have significant potential in various industries and applications. Further research is needed to fully understand their mechanisms of action and optimize their extraction and utilization. This review provides an overview of the current knowledge on bioactive compounds sourced from the source known as devilfish and their potential applications, which can serve as a foundation for future research and development efforts.\n"
     ]
    },
    {
     "name": "stderr",
     "output_type": "stream",
     "text": [
      "Processing JSONL File: 100%|██████████| 150/150 [00:00<00:00, 14275.73it/s]\n",
      "Writing Output JSONL: 100%|██████████| 150/150 [00:00<00:00, 20679.25it/s]\n"
     ]
    }
   ],
   "source": [
    "import json\n",
    "from tqdm import tqdm\n",
    "from concurrent.futures import ThreadPoolExecutor\n",
    "\n",
    "def replace_tags_in_string(input_string):\n",
    "    replacements = {\n",
    "        '<CHEMICAL>': 'the chemical known as ',\n",
    "        '<disposition>': 'the disposition known as ',\n",
    "        '<exposure_root>': 'the exposure route known as ',\n",
    "        '<food>': 'the food known as ',\n",
    "        '<health_effect>': 'the health effect known as ',\n",
    "        '<organoleptic_effect>': 'the organoleptic effect known as ',\n",
    "        '<process>': 'the process known as ',\n",
    "        '<role>': 'the role known as ',\n",
    "        '<source>': 'the source known as ',\n",
    "    }\n",
    "\n",
    "    # Replace each tag with its corresponding phrase\n",
    "    for tag, replacement in replacements.items():\n",
    "        input_string = input_string.replace(tag, replacement)\n",
    "        # Remove the closing tags as well\n",
    "        input_string = input_string.replace('</' + tag[1:], '')\n",
    "\n",
    "    # Capitalize the first letter of each sentence\n",
    "    sentences = input_string.split('. ')\n",
    "    sentences = [sentence.capitalize() for sentence in sentences]\n",
    "\n",
    "    # Join the sentences back together\n",
    "    output_string = '. '.join(sentences)\n",
    "\n",
    "    return output_string\n",
    "\n",
    "def process_abstracts(abstracts):\n",
    "    results = []\n",
    "    for abstract in tqdm(abstracts, desc=\"Processing Abstracts\"):\n",
    "        result = replace_tags_in_string(abstract)\n",
    "        results.append(result)\n",
    "    return results\n",
    "\n",
    "def process_jsonl(input_file, output_file):\n",
    "    with open(input_file, 'r', encoding='utf-8') as f:\n",
    "        data = [json.loads(line) for line in f.readlines()]\n",
    "\n",
    "    for item in tqdm(data, desc=\"Processing JSONL File\"):\n",
    "        item['input'] = replace_tags_in_string(item['input'])\n",
    "\n",
    "    with open(output_file, 'w', encoding='utf-8') as f:\n",
    "        for item in tqdm(data, desc=\"Writing Output JSONL\"):\n",
    "            f.write(json.dumps(item) + '\\n')\n",
    "\n",
    "# Test the functions\n",
    "input_string = \"\\n\\nTitle: Diverse Bioactive Compounds Sourced from <source>Devilfish</source>: A Comprehensive Review\\n\\nBackground: The diverse bioactive compounds found in <source>Devilfish</source> have been attracting significant attention in recent years due to their potential applications in various fields such as <organoleptic_effect>medicine</organoleptic_effect>, cosmetics, and <role>agriculture</role>. This review aims to provide an overview of the various bioactive compounds sourced from <source>Devilfish</source> and their potential uses.\\n\\nMethods: A comprehensive literature search was conducted to identify and compile information on bioactive compounds found in <source>Devilfish</source>. The search included databases such as PubMed, Web of Science, and Google Scholar. The identified sources were then analyzed to extract relevant information on the compounds and their potential applications.\\n\\nResults: Several bioactive compounds have been identified in <source>Devilfish</source>, including GDP-\\u03b1-D-mannose, <organoleptic_effect>Eugenol</organoleptic_effect>, Spermidine, 2-18:2(9Z,12Z)-lysophosphatidylcholine, (+)-pulegone, and 3-Indoleacetonitrile. These compounds have been found to exhibit various <source>biological</source> activities such as <role>antioxidant</role>, <role>anti-inflammatory</role>, anticancer, and antimicrobial properties.\\n\\nConclusion: The diverse bioactive compounds found in <source>Devilfish</source> have significant potential in various industries and applications. Further research is needed to fully understand their mechanisms of action and optimize their extraction and utilization. This review provides an overview of the current knowledge on bioactive compounds sourced from <source>Devilfish</source> and their potential applications, which can serve as a foundation for future research and development efforts.\"\n",
    "\n",
    "output_string = replace_tags_in_string(input_string)\n",
    "print(output_string)\n",
    "\n",
    "input_file = 'input.jsonl'\n",
    "output_file = 'output.jsonl'\n",
    "process_jsonl(input_file, output_file)\n"
   ]
  },
  {
   "cell_type": "code",
   "execution_count": null,
   "id": "2ec01899-0caa-4dcc-9f06-01ed54430f3a",
   "metadata": {},
   "outputs": [],
   "source": []
  }
 ],
 "metadata": {
  "kernelspec": {
   "display_name": "Python 3 (ipykernel)",
   "language": "python",
   "name": "python3"
  },
  "language_info": {
   "codemirror_mode": {
    "name": "ipython",
    "version": 3
   },
   "file_extension": ".py",
   "mimetype": "text/x-python",
   "name": "python",
   "nbconvert_exporter": "python",
   "pygments_lexer": "ipython3",
   "version": "3.10.12"
  }
 },
 "nbformat": 4,
 "nbformat_minor": 5
}
